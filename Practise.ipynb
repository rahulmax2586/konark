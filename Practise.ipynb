{
 "cells": [
  {
   "cell_type": "code",
   "execution_count": 1,
   "metadata": {},
   "outputs": [],
   "source": [
    "import csv"
   ]
  },
  {
   "cell_type": "code",
   "execution_count": 86,
   "metadata": {},
   "outputs": [
    {
     "name": "stdout",
     "output_type": "stream",
     "text": [
      "Start Time: ['20191201_101032'] End Time: ['20191201_101532'] Total: 1013\n",
      "Start Time: ['20191202_101032'] End Time: ['20191202_101532'] Total: 1014\n"
     ]
    }
   ],
   "source": [
    "var = []\n",
    "\n",
    "with open('C:\\\\Users\\\\rahul_zc8az5v\\\\log1.txt') as logfile:\n",
    "    line = csv.reader( logfile )\n",
    "    for i in line:\n",
    "        is_start = [ int(1) for x in i if 'starting' in x ]\n",
    "        is_end =   [ 1 for x in i if 'ending' in x ]\n",
    "        is_row =   [ 1 for x in i if 'READ' in x ]\n",
    "        \n",
    "        \n",
    "        if 1 in is_start :\n",
    "            start_time = [ x.split(\" \")[5] for x in i ]\n",
    "            \n",
    "        if 1 in is_row:\n",
    "            var = var + [ int(x.split(\" \")[0]) for x in i ]\n",
    "        \n",
    "        if 1 in is_end:\n",
    "            end_time = [ x.split(\" \")[5] for x in i ]\n",
    "            total = sum(var)\n",
    "            \n",
    "            print(\"Start Time: \" + str(start_time) + \" End Time: \" + str(end_time) + \" Total: \" + str(total))\n",
    "            \n",
    "            start_time = []\n",
    "            end_time =   []\n",
    "            var = []          \n",
    "            "
   ]
  },
  {
   "cell_type": "code",
   "execution_count": null,
   "metadata": {},
   "outputs": [],
   "source": []
  }
 ],
 "metadata": {
  "kernelspec": {
   "display_name": "Python 3",
   "language": "python",
   "name": "python3"
  },
  "language_info": {
   "codemirror_mode": {
    "name": "ipython",
    "version": 3
   },
   "file_extension": ".py",
   "mimetype": "text/x-python",
   "name": "python",
   "nbconvert_exporter": "python",
   "pygments_lexer": "ipython3",
   "version": "3.7.4"
  }
 },
 "nbformat": 4,
 "nbformat_minor": 2
}
